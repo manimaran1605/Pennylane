{
 "cells": [
  {
   "cell_type": "code",
   "execution_count": null,
   "id": "5b881268",
   "metadata": {},
   "outputs": [],
   "source": [
    "\n",
    "dev = qml.device('default.qubit', wires = [0,1,2])\n",
    "\n",
    "@qml.qnode(dev)\n",
    "def or_circuit(state):\n",
    "\n",
    "    \"\"\"\n",
    "    Applies an OR gate to the first and second qubits.\n",
    "    \n",
    "    Args:\n",
    "        - state (np.array(int)): An array of the form [a,b,0] representing the input qubit |a>|b>|0>.\n",
    "    Returns:\n",
    "        - (np.tensor): The output state of the circuit as returned by qml.state().\n",
    "    \n",
    "    \"\"\"\n",
    "    \n",
    "    qml.BasisState(state, wires =[0,1,2])\n",
    "\n",
    "    # Put your code here\n",
    "    qml.PauliX(0)\n",
    "    qml.PauliX(1)\n",
    "    qml.Toffoli(wires=[0,1,2])\n",
    "    qml.PauliX(0)\n",
    "    qml.PauliX(1)\n",
    "    qml.PauliX(2)\n",
    "    return qml.state()\n",
    "\n",
    "# These functions are responsible for testing the solution.\n",
    "\n",
    "def run(test_case_input: str) -> str:\n",
    "    ins = json.loads(test_case_input)\n",
    "    state = np.real(or_circuit(ins))\n",
    "    \n",
    "    bin_string = bin(np.sum([int((state[i]*i).numpy()) for i in range(len(state))]))[2:].zfill(3)\n",
    "\n",
    "    return str([int(elem) for elem in bin_string])\n",
    "\n",
    "def check(solution_output: str, expected_output: str) -> None:\n",
    "    solution_output = json.loads(solution_output)\n",
    "    expected_output = json.loads(expected_output)\n",
    "    \n",
    "    u = or_circuit([0,0,0])\n",
    "    tape = or_circuit.qtape\n",
    "    names = [op.name for op in tape.operations]\n",
    "\n",
    "    assert names.count('BasisState') == 1, \"You can't use BasisState, only the one in the template is allowed\"\n",
    "     \n",
    "    for op in or_circuit.tape.operations:\n",
    "        (isinstance(op, qml.BasisState) or isinstance(op, qml.Toffoli) or isinstance(op, qml.PauliX)), \"You can only use Toffoli and PauliX gates\"\n",
    "\n",
    "    assert np.allclose(solution_output,expected_output, rtol = 1e-4), \"Not the right output state\""
   ]
  }
 ],
 "metadata": {
  "kernelspec": {
   "display_name": "Python 3",
   "language": "python",
   "name": "python3"
  },
  "language_info": {
   "codemirror_mode": {
    "name": "ipython",
    "version": 3
   },
   "file_extension": ".py",
   "mimetype": "text/x-python",
   "name": "python",
   "nbconvert_exporter": "python",
   "pygments_lexer": "ipython3",
   "version": "3.8.8"
  }
 },
 "nbformat": 4,
 "nbformat_minor": 5
}
