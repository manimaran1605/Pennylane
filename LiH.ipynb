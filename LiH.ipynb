{
 "cells": [
  {
   "cell_type": "code",
   "execution_count": 1,
   "id": "24824181",
   "metadata": {},
   "outputs": [
    {
     "name": "stdout",
     "output_type": "stream",
     "text": [
      "E_O: H2 -1.1167143252241292\n",
      "E_O: Li2 -14.638642875212248\n",
      "E_reactants: -15.755357200436377\n",
      "E_activation: -15.106000886418549\n",
      "E_products: -15.726534459285016\n"
     ]
    },
    {
     "data": {
      "text/plain": [
       "tensor([-15.7553572 , -15.10600089, -15.72653446], requires_grad=True)"
      ]
     },
     "execution_count": 1,
     "metadata": {},
     "output_type": "execute_result"
    }
   ],
   "source": [
    "import json\n",
    "import pennylane as qml\n",
    "import pennylane.numpy as np\n",
    "\n",
    "def potential_energy_surface(symbols, bond_lengths):\n",
    "    \"\"\"Calculates the molecular energy over various bond lengths (AKA the \n",
    "    potential energy surface) using the Hartree Fock method.\n",
    "    \n",
    "    Args:\n",
    "        symbols (list(string)): \n",
    "            A list of atomic symbols that comprise the diatomic molecule of interest.\n",
    "        bond_lengths (numpy.tensor): Bond lengths to calculate the energy over.\n",
    "\n",
    "        \n",
    "    Returns:\n",
    "        hf_energies (numpy.tensor): \n",
    "            The Hartree Fock energies at every bond length value.\n",
    "    \"\"\"\n",
    "\n",
    "\n",
    "    hf_energies = []\n",
    "    \n",
    "    # Put your code here #\n",
    "    energy = np.zeros(len(bond_lengths))\n",
    "    i = 0\n",
    "    for r in bond_lengths:\n",
    "        geometry = np.array([[0.0, 0.0, 0.0], [0.0, 0.0, r]], requires_grad = False)\n",
    "        mol = qml.qchem.Molecule(symbols, geometry, alpha=None)\n",
    "        args = []\n",
    "        energy[i] = qml.qchem.hf_energy(mol)(*args)\n",
    "        i += 1\n",
    "    hf_energies = energy\n",
    "    return np.array(hf_energies)\n",
    "\n",
    "\n",
    "def ground_energy(hf_energies):\n",
    "    \"\"\"Finds the minimum energy of a molecule given its potential energy surface.\n",
    "    \n",
    "    Args: \n",
    "        hf_energies (numpy.tensor): \n",
    "\n",
    "    Returns:\n",
    "        (float): The minumum energy in units of hartrees.\n",
    "    \"\"\"\n",
    "\n",
    "    ind = np.argmin(hf_energies)\n",
    "    return hf_energies[ind]\n",
    "\n",
    "def reaction():\n",
    "    \"\"\"Calculates the energy of the reactants, the activation energy, and the energy of \n",
    "    the products in that order.\n",
    "\n",
    "    Returns:\n",
    "        (numpy.tensor): [E_reactants, E_activation, E_products]\n",
    "    \"\"\"\n",
    "    molecules = {\n",
    "        \"H2\": \n",
    "            {\"symbols\": [\"H\", \"H\"], \"E0\": 0, \"E_dissociation\": 0, \"bond lengths\": np.arange(0.5, 9.3, 0.3)}, \n",
    "        \"Li2\": \n",
    "            {\"symbols\": [\"Li\", \"Li\"], \"E0\": 0, \"E_dissociation\": 0, \"bond lengths\": np.arange(3.5, 8.3, 0.3)}, \n",
    "        \"LiH\": \n",
    "            {\"symbols\": [\"Li\", \"H\"], \"E0\": 0, \"E_dissociation\": 0, \"bond lengths\": np.arange(2.0, 6.6, 0.3)}\n",
    "    }\n",
    "\n",
    "    for molecule in molecules.keys():\n",
    "        # Put your code here #\n",
    "        symbols = molecules[molecule][\"symbols\"]\n",
    "        bond_lengths = molecules[molecule][\"bond lengths\"]\n",
    "        hf_energies = potential_energy_surface(symbols, bond_lengths)\n",
    "        E0 = ground_energy(hf_energies)\n",
    "        E_dissociation = np.abs(E0 - hf_energies[-1])\n",
    "\n",
    "        molecules[molecule][\"E0\"] = E0\n",
    "        molecules[molecule][\"E_dissociation\"] = E_dissociation\n",
    "\n",
    "    # Calculate the following and don't forget to balance the chemical reaction!\n",
    "    E_reactants = molecules[\"H2\"][\"E0\"] + molecules[\"Li2\"][\"E0\"]\n",
    "    diss1 = (molecules[\"H2\"][\"E_dissociation\"] + molecules[\"Li2\"][\"E_dissociation\"])\n",
    "    E_activation = E_reactants + diss1\n",
    "    E_products = 2 * molecules[\"LiH\"][\"E0\"]\n",
    "    \n",
    "    print(\"E_O: H2\", molecules[\"H2\"][\"E0\"])\n",
    "    print(\"E_O: Li2\", molecules[\"Li2\"][\"E0\"])\n",
    "    print(\"E_reactants:\", E_reactants)\n",
    "    print(\"E_activation:\", E_activation)\n",
    "    print(\"E_products:\", E_products)\n",
    "\n",
    "    return np.array([E_reactants, E_activation, E_products])\n",
    "\n",
    "reaction()"
   ]
  },
  {
   "cell_type": "code",
   "execution_count": null,
   "id": "8448b9e8",
   "metadata": {},
   "outputs": [],
   "source": []
  }
 ],
 "metadata": {
  "kernelspec": {
   "display_name": "Python 3 (ipykernel)",
   "language": "python",
   "name": "python3"
  },
  "language_info": {
   "codemirror_mode": {
    "name": "ipython",
    "version": 3
   },
   "file_extension": ".py",
   "mimetype": "text/x-python",
   "name": "python",
   "nbconvert_exporter": "python",
   "pygments_lexer": "ipython3",
   "version": "3.9.13"
  }
 },
 "nbformat": 4,
 "nbformat_minor": 5
}
