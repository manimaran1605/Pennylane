{
 "cells": [
  {
   "cell_type": "code",
   "execution_count": null,
   "id": "1fe54e2b",
   "metadata": {},
   "outputs": [],
   "source": [
    "\n",
    "def binary_to_grey(num_wires):\n",
    "\n",
    "    \"\"\"\n",
    "    A function mapping binary encoded qubits to gray code.\n",
    "\n",
    "    Args:\n",
    "        num_wires (int): The number of qubits.\n",
    "\n",
    "    \"\"\"\n",
    "\n",
    "    # Put your solution here #\n",
    "    for i in reversed(range(num_wires - 1)):\n",
    "        qml.CNOT(wires=[i, i + 1])\n",
    "    \n",
    "\n",
    "def run(test_case_input: str) -> str:\n",
    "    binary_string = json.loads(test_case_input)\n",
    "    n_wires = int(len(binary_string))\n",
    "\n",
    "    dev = qml.device(\"default.qubit\", wires = n_wires)\n",
    "    @qml.qnode(dev)\n",
    "    def circuit():\n",
    "        qml.BasisEmbedding(binary_string, range(n_wires))\n",
    "        binary_to_grey(n_wires)\n",
    "        return qml.probs()\n",
    "    \n",
    "    output = circuit().tolist()\n",
    "    \n",
    "    return str(output)\n",
    "\n",
    "def check(solution_output: str, expected_output: str) -> None:\n",
    "    solution_output = json.loads(solution_output)\n",
    "    expected_output = json.loads(expected_output)\n",
    "    assert np.allclose(solution_output, expected_output, rtol=1e-4)"
   ]
  }
 ],
 "metadata": {
  "kernelspec": {
   "display_name": "Python 3",
   "language": "python",
   "name": "python3"
  },
  "language_info": {
   "codemirror_mode": {
    "name": "ipython",
    "version": 3
   },
   "file_extension": ".py",
   "mimetype": "text/x-python",
   "name": "python",
   "nbconvert_exporter": "python",
   "pygments_lexer": "ipython3",
   "version": "3.8.8"
  }
 },
 "nbformat": 4,
 "nbformat_minor": 5
}
