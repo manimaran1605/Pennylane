{
 "cells": [
  {
   "cell_type": "code",
   "execution_count": 11,
   "id": "7d2121c3",
   "metadata": {},
   "outputs": [
    {
     "name": "stdout",
     "output_type": "stream",
     "text": [
      "Running test case 0 with input 'No input'...\n",
      "Correct!\n"
     ]
    }
   ],
   "source": [
    "import json\n",
    "import pennylane as qml\n",
    "import pennylane.numpy as np\n",
    "\n",
    "dev = qml.device(\"default.qubit\", wires = 5)\n",
    "\n",
    "@qml.qnode(dev)\n",
    "def circuit():\n",
    "    \"\"\"\n",
    "    Circuit in which you will prepare the Bell state with the allowed gates.\n",
    "    \"\"\"\n",
    "\n",
    "    qml.Hadamard(0)\n",
    "    qml.QFT(wires = [2,1,0])\n",
    "    qml.QFT(wires = [2,1,0])\n",
    "    qml.QFT(wires = [4,3,0])\n",
    "    qml.QFT(wires = [4,3,0])\n",
    "\n",
    "\n",
    "    # Put your code here #\n",
    "    \n",
    "\n",
    "\n",
    "    return qml.probs(wires = range(5))\n",
    "\n",
    "\n",
    "# These functions are responsible for testing the solution\n",
    "\n",
    "def run(case: str) -> str:\n",
    "    return \"No output\"\n",
    "\n",
    "def check(have: str, want: str) -> None:\n",
    "\n",
    "    assert np.isclose(circuit()[0], 0.5), \"The state is not correct\"\n",
    "    assert np.isclose(circuit()[-1], 0.5), \"The state is not correct\"\n",
    "\n",
    "    for op in circuit.tape.operations:\n",
    "      assert (isinstance(op, qml.Hadamard) or isinstance(op, qml.T) or isinstance(op, qml.QFT)), f\"You can only use Hadamard, T and QFT operators. You are using {op.name}\"\n",
    "      if isinstance(op, qml.QFT):\n",
    "        assert len(op.wires) == 3, \"QFT must act on 3 wires\"\n",
    "\n",
    "\n",
    "# These are the public test cases\n",
    "test_cases = [\n",
    "    ('No input', 'No output')\n",
    "]\n",
    "\n",
    "# This will run the public test cases locally\n",
    "for i, (input_, expected_output) in enumerate(test_cases):\n",
    "    print(f\"Running test case {i} with input '{input_}'...\")\n",
    "\n",
    "    try:\n",
    "        output = run(input_)\n",
    "\n",
    "    except Exception as exc:\n",
    "        print(f\"Runtime Error. {exc}\")\n",
    "\n",
    "    else:\n",
    "        if message := check(output, expected_output):\n",
    "            print(f\"Wrong Answer. Have: '{output}'. Want: '{expected_output}'.\")\n",
    "\n",
    "        else:\n",
    "            print(\"Correct!\")"
   ]
  },
  {
   "cell_type": "code",
   "execution_count": 8,
   "id": "3bc853fa",
   "metadata": {},
   "outputs": [],
   "source": [
    "import pennylane as qml\n",
    "import pennylane.numpy as np\n",
    "dev = qml.device(\"default.qubit\", wires = 5)\n",
    "@qml.qnode(dev)\n",
    "def circuit():\n",
    "    qml.Hadamard(0)\n",
    "    qml.QFT(wires = [2,1,0])\n",
    "    qml.QFT(wires = [2,1,0])\n",
    "    qml.QFT(wires = [4,3,0])\n",
    "    qml.QFT(wires = [4,3,0])\n",
    "    return qml.state()\n"
   ]
  },
  {
   "cell_type": "code",
   "execution_count": 9,
   "id": "9d8db2e5",
   "metadata": {},
   "outputs": [
    {
     "data": {
      "text/plain": [
       "tensor([ 7.07106781e-01-9.75598556e-17j, -1.49288350e-16+6.70484707e-32j,\n",
       "        -8.15117035e-17-7.98994109e-17j, -2.28490367e-16+2.46432865e-16j,\n",
       "        -3.43584196e-16+9.95323836e-17j,  1.53811206e-31-1.65385194e-31j,\n",
       "         1.68961973e-31+3.40737198e-32j, -3.84272573e-32-6.65494227e-31j,\n",
       "        -1.88751740e-16-1.34431115e-16j,  1.22461329e-31+9.38330949e-33j,\n",
       "         3.35151998e-32+6.51132041e-32j,  2.36457503e-31-2.39344075e-31j,\n",
       "        -5.22587016e-16+8.51878083e-16j, -2.14908266e-16+7.99062279e-17j,\n",
       "        -1.34431115e-16-7.51441240e-17j, -2.96716358e-16+6.44711164e-16j,\n",
       "        -4.15829005e-17-7.63278329e-17j, -1.87400598e-16+6.93889390e-17j,\n",
       "        -1.10971840e-16-2.77555756e-17j, -3.89419888e-16+4.64064063e-16j,\n",
       "         1.09860531e-31+4.94797927e-32j,  1.04688137e-31-3.07091721e-31j,\n",
       "         1.50497617e-31-5.89888125e-32j, -4.16044764e-16+3.05600202e-16j,\n",
       "        -1.02989845e-33+7.20549224e-32j,  1.61852466e-31-5.49672796e-32j,\n",
       "         7.94943387e-32+4.50221735e-32j, -2.36908657e-16-4.26196274e-17j,\n",
       "        -4.33170214e-17-7.10725970e-17j, -2.21755735e-16+2.50089051e-16j,\n",
       "        -1.67519718e-16-7.92515792e-18j,  7.07106781e-01+6.73072709e-16j], requires_grad=True)"
      ]
     },
     "execution_count": 9,
     "metadata": {},
     "output_type": "execute_result"
    }
   ],
   "source": [
    "circuit()"
   ]
  },
  {
   "cell_type": "code",
   "execution_count": null,
   "id": "4f28715a",
   "metadata": {},
   "outputs": [],
   "source": []
  }
 ],
 "metadata": {
  "kernelspec": {
   "display_name": "Python 3 (ipykernel)",
   "language": "python",
   "name": "python3"
  },
  "language_info": {
   "codemirror_mode": {
    "name": "ipython",
    "version": 3
   },
   "file_extension": ".py",
   "mimetype": "text/x-python",
   "name": "python",
   "nbconvert_exporter": "python",
   "pygments_lexer": "ipython3",
   "version": "3.9.13"
  }
 },
 "nbformat": 4,
 "nbformat_minor": 5
}
