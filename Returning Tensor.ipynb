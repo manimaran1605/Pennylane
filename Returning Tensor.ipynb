{
 "cells": [
  {
   "cell_type": "code",
   "execution_count": null,
   "id": "af7b0809",
   "metadata": {},
   "outputs": [],
   "source": [
    "\n",
    "# Step 1: initialize a device by the name dev\n",
    "dev = qml.device(\"default.qubit\", wires=2)\n",
    "# Step 2: Adqml.device(\"default.qubit\", wires=2)d a decorator below\n",
    "@qml.qnode(dev)\n",
    "def simple_circuit(angle):\n",
    "\n",
    "    \"\"\"\n",
    "    In this function:\n",
    "        * Prepare the Bell state |Phi+>.\n",
    "        * Rotate the first qubit around the y-axis by angle\n",
    "        * Measure the tensor product observable Z0xZ1.\n",
    "\n",
    "    Args:\n",
    "        angle (float): how much to rotate a state around the y-axis.\n",
    "\n",
    "    Returns:\n",
    "        Union[tensor, float]: the expectation value of the Z0xZ1 observable.\n",
    "    \"\"\"\n",
    "    \n",
    "\n",
    "    # Step 3: Add gates to the QNode\n",
    "    qml.Hadamard(wires=0)\n",
    "    qml.CNOT(wires=[0, 1])\n",
    "    qml.RY(angle, wires =0)\n",
    "    return qml.expval(qml.PauliZ(0) @ qml.PauliZ(1))\n",
    "\n",
    "    # Put your code here #\n",
    "\n",
    "    # Step 4: Return the required expectation value  \n",
    "\n",
    "# These functions are responsible for testing the solution.\n",
    "def run(test_case_input: str) -> str:\n",
    "    angle = json.loads(test_case_input)\n",
    "    output = simple_circuit(angle).numpy()\n",
    "\n",
    "    return str(output)\n",
    "\n",
    "def check(solution_output: str, expected_output: str) -> None:\n",
    "    solution_output = json.loads(solution_output)\n",
    "    expected_output = json.loads(expected_output)\n",
    "    assert np.allclose(solution_output, expected_output, rtol=1e-4), \"Not the right expectation value\""
   ]
  }
 ],
 "metadata": {
  "kernelspec": {
   "display_name": "Python 3",
   "language": "python",
   "name": "python3"
  },
  "language_info": {
   "codemirror_mode": {
    "name": "ipython",
    "version": 3
   },
   "file_extension": ".py",
   "mimetype": "text/x-python",
   "name": "python",
   "nbconvert_exporter": "python",
   "pygments_lexer": "ipython3",
   "version": "3.8.8"
  }
 },
 "nbformat": 4,
 "nbformat_minor": 5
}
