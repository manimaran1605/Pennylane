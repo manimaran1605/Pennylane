{
 "cells": [
  {
   "cell_type": "code",
   "execution_count": null,
   "id": "8ae2aeb6",
   "metadata": {},
   "outputs": [],
   "source": [
    "\n",
    "dev = qml.device(\"default.qubit\", wires = 5)\n",
    "\n",
    "@qml.qnode(dev)\n",
    "def circuit():\n",
    "    \"\"\"\n",
    "    Circuit in which you will prepare the Bell state with the allowed gates.\n",
    "    \"\"\"\n",
    "\n",
    "    # Put your code here #\n",
    "    qml.Hadamard(0)\n",
    "    qml.QFT(wires = [2,1,0])\n",
    "    qml.QFT(wires = [2,1,0])\n",
    "    qml.QFT(wires = [4,3,0])\n",
    "    qml.QFT(wires = [4,3,0])\n",
    "    \n",
    "    \n",
    "\n",
    "    return qml.probs(wires = range(5))\n",
    "\n",
    "# These functions are responsible for testing the solution\n",
    "\n",
    "def run(case: str) -> str:\n",
    "    return \"No output\"\n",
    "\n",
    "def check(have: str, want: str) -> None:\n",
    "\n",
    "    assert np.isclose(circuit()[0], 0.5), \"The state is not correct\"\n",
    "    assert np.isclose(circuit()[-1], 0.5), \"The state is not correct\"\n",
    "\n",
    "    for op in circuit.tape.operations:\n",
    "      assert (isinstance(op, qml.Hadamard) or isinstance(op, qml.T) or isinstance(op, qml.QFT)), f\"You can only use Hadamard, T and QFT operators. You are using {op.name}\"\n",
    "      if isinstance(op, qml.QFT):\n",
    "        assert len(op.wires) == 3, \"QFT must act on 3 wires\""
   ]
  }
 ],
 "metadata": {
  "kernelspec": {
   "display_name": "Python 3",
   "language": "python",
   "name": "python3"
  },
  "language_info": {
   "codemirror_mode": {
    "name": "ipython",
    "version": 3
   },
   "file_extension": ".py",
   "mimetype": "text/x-python",
   "name": "python",
   "nbconvert_exporter": "python",
   "pygments_lexer": "ipython3",
   "version": "3.8.8"
  }
 },
 "nbformat": 4,
 "nbformat_minor": 5
}
