{
 "cells": [
  {
   "cell_type": "code",
   "execution_count": null,
   "id": "05e6b5dd",
   "metadata": {},
   "outputs": [],
   "source": [
    "\n",
    "# Define your device\n",
    "\n",
    "dev = qml.device(\"default.mixed\",wires=1)\n",
    "\n",
    "@qml.qnode(dev)\n",
    "def random_gate(p,q,r):\n",
    "\n",
    "    \"\"\"\n",
    "    Applies a Pauli X, Pauli Y, Pauli Z or does nothing at random.\n",
    "\n",
    "    Args:\n",
    "        - p (float): probability of applying Pauli X.\n",
    "        - q (float): probability of applying Pauli Y.\n",
    "        - r (float): probability of applying Pauli Z.\n",
    "\n",
    "    Returns:\n",
    "        - (np.tensor(float)): Measurement probabilities in the computational basis.\n",
    "\n",
    "    \"\"\"\n",
    "\n",
    "    # Put your code here\n",
    "    K_list = [np.sqrt(p)*np.array([[0, 1],[1, 0]]),\n",
    "             np.sqrt(q)*np.array([[0, -1j], [1j, 0]]),\n",
    "             np.sqrt(r)*np.array([[1, 0], [0, -1]]),\n",
    "             np.sqrt(1-p-q-r)*np.array([[1, 0],[0, 1]])]\n",
    "    qml.QubitChannel(K_list,wires=0)\n",
    "    return qml.probs(wires=[0])\n",
    "\n",
    "# These functions are responsible for testing the solution.\n",
    "\n",
    "\n",
    "def run(test_case_input: str) -> str:\n",
    "    ins = np.array(json.loads(test_case_input))\n",
    "    outs = random_gate(*ins).tolist()\n",
    "    return str(outs)\n",
    "\n",
    "\n",
    "def check(solution_output: str, expected_output: str) -> None:\n",
    "    solution_output = json.loads(solution_output)\n",
    "    expected_output = json.loads(expected_output)\n",
    "\n",
    "    assert np.allclose(solution_output, expected_output, rtol = 1e-4), \"Not the correct probabilities\""
   ]
  }
 ],
 "metadata": {
  "kernelspec": {
   "display_name": "Python 3",
   "language": "python",
   "name": "python3"
  },
  "language_info": {
   "codemirror_mode": {
    "name": "ipython",
    "version": 3
   },
   "file_extension": ".py",
   "mimetype": "text/x-python",
   "name": "python",
   "nbconvert_exporter": "python",
   "pygments_lexer": "ipython3",
   "version": "3.8.8"
  }
 },
 "nbformat": 4,
 "nbformat_minor": 5
}
